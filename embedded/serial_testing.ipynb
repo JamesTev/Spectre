{
 "cells": [
  {
   "cell_type": "code",
   "execution_count": 1,
   "metadata": {},
   "outputs": [],
   "source": [
    "import sys\n",
    "import glob\n",
    "import serial\n",
    "import numpy as np\n",
    "\n",
    "def get_serial_ports():\n",
    "    \"\"\" Lists serial port names\n",
    "\n",
    "        :raises EnvironmentError:\n",
    "            On unsupported or unknown platforms\n",
    "        :returns:\n",
    "            A list of the serial ports available on the system\n",
    "    \"\"\"\n",
    "    if sys.platform.startswith('win'):\n",
    "        ports = ['COM%s' % (i + 1) for i in range(256)]\n",
    "    elif sys.platform.startswith('linux') or sys.platform.startswith('cygwin'):\n",
    "        # this excludes your current terminal \"/dev/tty\"\n",
    "        ports = glob.glob('/dev/tty[A-Za-z]*')\n",
    "    elif sys.platform.startswith('darwin'):\n",
    "        ports = glob.glob('/dev/tty.*')\n",
    "    else:\n",
    "        raise EnvironmentError('Unsupported platform')\n",
    "\n",
    "    result = []\n",
    "    for port in ports:\n",
    "        try:\n",
    "            s = serial.Serial(port)\n",
    "            s.close()\n",
    "            result.append(port)\n",
    "        except (OSError, serial.SerialException):\n",
    "            pass\n",
    "    return result"
   ]
  },
  {
   "cell_type": "code",
   "execution_count": 2,
   "metadata": {},
   "outputs": [
    {
     "data": {
      "text/plain": [
       "['/dev/tty.Bluetooth-Incoming-Port',\n",
       " '/dev/tty.usbserial-01D5ED4C',\n",
       " '/dev/tty.SLAB_USBtoUART']"
      ]
     },
     "execution_count": 2,
     "metadata": {},
     "output_type": "execute_result"
    }
   ],
   "source": [
    "get_serial_ports()"
   ]
  },
  {
   "cell_type": "code",
   "execution_count": 1,
   "metadata": {},
   "outputs": [],
   "source": [
    "import serial\n",
    "import numpy as np\n",
    "import matplotlib.pyplot as plt\n",
    "import pandas as pd\n",
    "\n",
    "#ser = serial.Serial('/dev/tty.usbserial-AH01L3MB', baudrate=115200)\n",
    "ser = serial.Serial('/dev/tty.SLAB_USBtoUART', baudrate=500000)\n",
    "\n",
    "ser.flushInput()"
   ]
  },
  {
   "cell_type": "code",
   "execution_count": 2,
   "metadata": {},
   "outputs": [],
   "source": [
    "def get_sample():\n",
    "    ser.write(b\"R\")\n",
    "    s = b''\n",
    "    done = False\n",
    "    started = False\n",
    "    while not done:\n",
    "        current_char = ser.read()\n",
    "        if current_char == b'$':\n",
    "            break\n",
    "        if started:\n",
    "            s+=current_char\n",
    "\n",
    "        if current_char == b'#':\n",
    "            started = True\n",
    "    return np.array(parse_hex_str(s))\n",
    "\n",
    "def parse_hex_str(data):\n",
    "    return [int(d, 16) for d in bytes.splitlines(data)]\n",
    "\n"
   ]
  },
  {
   "cell_type": "code",
   "execution_count": 69,
   "metadata": {},
   "outputs": [
    {
     "data": {
      "text/plain": [
       "[<matplotlib.lines.Line2D at 0x123a13d60>,\n",
       " <matplotlib.lines.Line2D at 0x123a13e80>,\n",
       " <matplotlib.lines.Line2D at 0x123a13f40>]"
      ]
     },
     "execution_count": 69,
     "metadata": {},
     "output_type": "execute_result"
    },
    {
     "data": {
      "image/png": "[encoded data removed]",
      "text/plain": [
       "<Figure size 1152x432 with 2 Axes>"
      ]
     },
     "metadata": {
      "needs_background": "light"
     },
     "output_type": "display_data"
    }
   ],
   "source": [
    "import time\n",
    "\n",
    "def get_averaged_reading(n_samples, delay_sec):\n",
    "\n",
    "    all_data = get_sample().reshape([1, -1])\n",
    "\n",
    "    for i in range(max(n_samples-1, 0)):\n",
    "        time.sleep(delay_sec)\n",
    "        sample = get_sample()\n",
    "        all_data = np.vstack([all_data, sample])\n",
    "    return all_data\n",
    "\n",
    "n_per_reading = 3 # number of subsamples for a reading\n",
    "dt = 0.2 # delay in seconds between subsamples\n",
    "\n",
    "data_mat = get_averaged_reading(n_per_reading, dt)\n",
    "mean_sig = data_mat.mean(axis=0)\n",
    "fig, (ax0, ax1) = plt.subplots(1, 2, figsize=(16,6))\n",
    "ax0.plot(mean_sig, alpha=0.2)\n",
    "ax0.plot(pd.Series(mean_sig).rolling(10).mean())\n",
    "\n",
    "ax1.plot(data_mat.T)"
   ]
  }
 ],
 "metadata": {
  "kernelspec": {
   "display_name": "base-env",
   "language": "python",
   "name": "base-env"
  },
  "language_info": {
   "codemirror_mode": {
    "name": "ipython",
    "version": 3
   },
   "file_extension": ".py",
   "mimetype": "text/x-python",
   "name": "python",
   "nbconvert_exporter": "python",
   "pygments_lexer": "ipython3",
   "version": "3.8.6"
  },
  "toc": {
   "base_numbering": 1,
   "nav_menu": {},
   "number_sections": true,
   "sideBar": true,
   "skip_h1_title": false,
   "title_cell": "Table of Contents",
   "title_sidebar": "Contents",
   "toc_cell": false,
   "toc_position": {},
   "toc_section_display": true,
   "toc_window_display": false
  }
 },
 "nbformat": 4,
 "nbformat_minor": 4
}
